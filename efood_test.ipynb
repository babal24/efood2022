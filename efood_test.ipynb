{
 "cells": [
  {
   "cell_type": "markdown",
   "id": "3d8b6bce",
   "metadata": {},
   "source": [
    "# Test efood"
   ]
  },
  {
   "cell_type": "code",
   "execution_count": 29,
   "id": "4b36af78",
   "metadata": {},
   "outputs": [],
   "source": [
    "import pandas as pd\n",
    "import seaborn as sns"
   ]
  },
  {
   "cell_type": "code",
   "execution_count": null,
   "id": "b3a110ba",
   "metadata": {},
   "outputs": [],
   "source": [
    "df = pd.read_csv(\"orders.csv\")"
   ]
  },
  {
   "cell_type": "code",
   "execution_count": 3,
   "id": "fc993eef",
   "metadata": {},
   "outputs": [
    {
     "data": {
      "text/html": [
       "<div>\n",
       "<style scoped>\n",
       "    .dataframe tbody tr th:only-of-type {\n",
       "        vertical-align: middle;\n",
       "    }\n",
       "\n",
       "    .dataframe tbody tr th {\n",
       "        vertical-align: top;\n",
       "    }\n",
       "\n",
       "    .dataframe thead th {\n",
       "        text-align: right;\n",
       "    }\n",
       "</style>\n",
       "<table border=\"1\" class=\"dataframe\">\n",
       "  <thead>\n",
       "    <tr style=\"text-align: right;\">\n",
       "      <th></th>\n",
       "      <th>order_id</th>\n",
       "      <th>user_id</th>\n",
       "      <th>order_timestamp</th>\n",
       "      <th>city</th>\n",
       "      <th>cuisine</th>\n",
       "      <th>paid_cash</th>\n",
       "      <th>amount</th>\n",
       "    </tr>\n",
       "  </thead>\n",
       "  <tbody>\n",
       "    <tr>\n",
       "      <th>0</th>\n",
       "      <td>7322173742136</td>\n",
       "      <td>94223136441</td>\n",
       "      <td>2022-01-18 15:41:28 UTC</td>\n",
       "      <td>Αίγιο</td>\n",
       "      <td>Breakfast</td>\n",
       "      <td>True</td>\n",
       "      <td>3.6</td>\n",
       "    </tr>\n",
       "    <tr>\n",
       "      <th>1</th>\n",
       "      <td>7210978616924</td>\n",
       "      <td>204794985423</td>\n",
       "      <td>2022-01-02 17:50:50 UTC</td>\n",
       "      <td>Αγρίνιο</td>\n",
       "      <td>Breakfast</td>\n",
       "      <td>True</td>\n",
       "      <td>1.9</td>\n",
       "    </tr>\n",
       "    <tr>\n",
       "      <th>2</th>\n",
       "      <td>7221232906132</td>\n",
       "      <td>12703920390</td>\n",
       "      <td>2022-01-04 08:37:12 UTC</td>\n",
       "      <td>Αγρίνιο</td>\n",
       "      <td>Breakfast</td>\n",
       "      <td>True</td>\n",
       "      <td>1.7</td>\n",
       "    </tr>\n",
       "    <tr>\n",
       "      <th>3</th>\n",
       "      <td>7399605199800</td>\n",
       "      <td>673310109528</td>\n",
       "      <td>2022-01-31 11:33:05 UTC</td>\n",
       "      <td>Λιβαδειά</td>\n",
       "      <td>Breakfast</td>\n",
       "      <td>True</td>\n",
       "      <td>3.0</td>\n",
       "    </tr>\n",
       "    <tr>\n",
       "      <th>4</th>\n",
       "      <td>7264221279744</td>\n",
       "      <td>673310109528</td>\n",
       "      <td>2022-01-10 11:18:28 UTC</td>\n",
       "      <td>Λιβαδειά</td>\n",
       "      <td>Breakfast</td>\n",
       "      <td>True</td>\n",
       "      <td>3.0</td>\n",
       "    </tr>\n",
       "    <tr>\n",
       "      <th>5</th>\n",
       "      <td>7290656850956</td>\n",
       "      <td>212289897372</td>\n",
       "      <td>2022-01-14 10:49:34 UTC</td>\n",
       "      <td>Λαμία</td>\n",
       "      <td>Breakfast</td>\n",
       "      <td>False</td>\n",
       "      <td>3.0</td>\n",
       "    </tr>\n",
       "    <tr>\n",
       "      <th>6</th>\n",
       "      <td>7251782527516</td>\n",
       "      <td>255327451974</td>\n",
       "      <td>2022-01-08 16:39:02 UTC</td>\n",
       "      <td>Βόλος</td>\n",
       "      <td>Breakfast</td>\n",
       "      <td>False</td>\n",
       "      <td>6.2</td>\n",
       "    </tr>\n",
       "    <tr>\n",
       "      <th>7</th>\n",
       "      <td>7373393770196</td>\n",
       "      <td>343181291166</td>\n",
       "      <td>2022-01-27 11:08:07 UTC</td>\n",
       "      <td>Βόλος</td>\n",
       "      <td>Breakfast</td>\n",
       "      <td>False</td>\n",
       "      <td>4.1</td>\n",
       "    </tr>\n",
       "    <tr>\n",
       "      <th>8</th>\n",
       "      <td>7234487849604</td>\n",
       "      <td>45669681666</td>\n",
       "      <td>2022-01-06 03:38:20 UTC</td>\n",
       "      <td>Βόλος</td>\n",
       "      <td>Breakfast</td>\n",
       "      <td>False</td>\n",
       "      <td>10.5</td>\n",
       "    </tr>\n",
       "    <tr>\n",
       "      <th>9</th>\n",
       "      <td>7375190020184</td>\n",
       "      <td>287462587230</td>\n",
       "      <td>2022-01-27 17:59:26 UTC</td>\n",
       "      <td>Βόλος</td>\n",
       "      <td>Breakfast</td>\n",
       "      <td>False</td>\n",
       "      <td>6.3</td>\n",
       "    </tr>\n",
       "  </tbody>\n",
       "</table>\n",
       "</div>"
      ],
      "text/plain": [
       "        order_id       user_id          order_timestamp      city    cuisine  \\\n",
       "0  7322173742136   94223136441  2022-01-18 15:41:28 UTC     Αίγιο  Breakfast   \n",
       "1  7210978616924  204794985423  2022-01-02 17:50:50 UTC   Αγρίνιο  Breakfast   \n",
       "2  7221232906132   12703920390  2022-01-04 08:37:12 UTC   Αγρίνιο  Breakfast   \n",
       "3  7399605199800  673310109528  2022-01-31 11:33:05 UTC  Λιβαδειά  Breakfast   \n",
       "4  7264221279744  673310109528  2022-01-10 11:18:28 UTC  Λιβαδειά  Breakfast   \n",
       "5  7290656850956  212289897372  2022-01-14 10:49:34 UTC     Λαμία  Breakfast   \n",
       "6  7251782527516  255327451974  2022-01-08 16:39:02 UTC     Βόλος  Breakfast   \n",
       "7  7373393770196  343181291166  2022-01-27 11:08:07 UTC     Βόλος  Breakfast   \n",
       "8  7234487849604   45669681666  2022-01-06 03:38:20 UTC     Βόλος  Breakfast   \n",
       "9  7375190020184  287462587230  2022-01-27 17:59:26 UTC     Βόλος  Breakfast   \n",
       "\n",
       "   paid_cash  amount  \n",
       "0       True     3.6  \n",
       "1       True     1.9  \n",
       "2       True     1.7  \n",
       "3       True     3.0  \n",
       "4       True     3.0  \n",
       "5      False     3.0  \n",
       "6      False     6.2  \n",
       "7      False     4.1  \n",
       "8      False    10.5  \n",
       "9      False     6.3  "
      ]
     },
     "execution_count": 3,
     "metadata": {},
     "output_type": "execute_result"
    }
   ],
   "source": [
    "#checking the structure of the data\n",
    "df.head(10)"
   ]
  },
  {
   "cell_type": "code",
   "execution_count": 5,
   "id": "cc54e131",
   "metadata": {},
   "outputs": [
    {
     "data": {
      "text/plain": [
       "(534270, 7)"
      ]
     },
     "execution_count": 5,
     "metadata": {},
     "output_type": "execute_result"
    }
   ],
   "source": [
    "#check the no. of rows and column of the dataset\n",
    "df.shape"
   ]
  },
  {
   "cell_type": "code",
   "execution_count": 6,
   "id": "2a9fd565",
   "metadata": {},
   "outputs": [
    {
     "name": "stdout",
     "output_type": "stream",
     "text": [
      "<class 'pandas.core.frame.DataFrame'>\n",
      "RangeIndex: 534270 entries, 0 to 534269\n",
      "Data columns (total 7 columns):\n",
      " #   Column           Non-Null Count   Dtype  \n",
      "---  ------           --------------   -----  \n",
      " 0   order_id         534270 non-null  int64  \n",
      " 1   user_id          534270 non-null  int64  \n",
      " 2   order_timestamp  534270 non-null  object \n",
      " 3   city             534270 non-null  object \n",
      " 4   cuisine          534270 non-null  object \n",
      " 5   paid_cash        534270 non-null  bool   \n",
      " 6   amount           534270 non-null  float64\n",
      "dtypes: bool(1), float64(1), int64(2), object(3)\n",
      "memory usage: 25.0+ MB\n"
     ]
    }
   ],
   "source": [
    "#check the structure of the data\n",
    "df.info()"
   ]
  },
  {
   "cell_type": "code",
   "execution_count": 8,
   "id": "e9be2886",
   "metadata": {},
   "outputs": [
    {
     "data": {
      "text/plain": [
       "order_id           0\n",
       "user_id            0\n",
       "order_timestamp    0\n",
       "city               0\n",
       "cuisine            0\n",
       "paid_cash          0\n",
       "amount             0\n",
       "dtype: int64"
      ]
     },
     "execution_count": 8,
     "metadata": {},
     "output_type": "execute_result"
    }
   ],
   "source": [
    "#check the missing values in the dataset\n",
    "df.isnull().sum()"
   ]
  },
  {
   "cell_type": "code",
   "execution_count": 4,
   "id": "dd483b68",
   "metadata": {},
   "outputs": [],
   "source": [
    "# Convert the order_timestamp column to a datetime type\n",
    "df['order_timestamp'] = pd.to_datetime(df['order_timestamp'])"
   ]
  },
  {
   "cell_type": "code",
   "execution_count": 5,
   "id": "2434432c",
   "metadata": {},
   "outputs": [],
   "source": [
    "# Extract the month from the order_timestamp column\n",
    "df['month'] = df['order_timestamp'].dt.month"
   ]
  },
  {
   "cell_type": "code",
   "execution_count": 5,
   "id": "88402426",
   "metadata": {},
   "outputs": [
    {
     "data": {
      "text/html": [
       "<div>\n",
       "<style scoped>\n",
       "    .dataframe tbody tr th:only-of-type {\n",
       "        vertical-align: middle;\n",
       "    }\n",
       "\n",
       "    .dataframe tbody tr th {\n",
       "        vertical-align: top;\n",
       "    }\n",
       "\n",
       "    .dataframe thead th {\n",
       "        text-align: right;\n",
       "    }\n",
       "</style>\n",
       "<table border=\"1\" class=\"dataframe\">\n",
       "  <thead>\n",
       "    <tr style=\"text-align: right;\">\n",
       "      <th></th>\n",
       "      <th>order_id</th>\n",
       "      <th>user_id</th>\n",
       "      <th>order_timestamp</th>\n",
       "      <th>city</th>\n",
       "      <th>cuisine</th>\n",
       "      <th>paid_cash</th>\n",
       "      <th>amount</th>\n",
       "      <th>month</th>\n",
       "    </tr>\n",
       "  </thead>\n",
       "  <tbody>\n",
       "    <tr>\n",
       "      <th>0</th>\n",
       "      <td>7322173742136</td>\n",
       "      <td>94223136441</td>\n",
       "      <td>2022-01-18 15:41:28+00:00</td>\n",
       "      <td>Αίγιο</td>\n",
       "      <td>Breakfast</td>\n",
       "      <td>True</td>\n",
       "      <td>3.6</td>\n",
       "      <td>1</td>\n",
       "    </tr>\n",
       "    <tr>\n",
       "      <th>1</th>\n",
       "      <td>7210978616924</td>\n",
       "      <td>204794985423</td>\n",
       "      <td>2022-01-02 17:50:50+00:00</td>\n",
       "      <td>Αγρίνιο</td>\n",
       "      <td>Breakfast</td>\n",
       "      <td>True</td>\n",
       "      <td>1.9</td>\n",
       "      <td>1</td>\n",
       "    </tr>\n",
       "    <tr>\n",
       "      <th>2</th>\n",
       "      <td>7221232906132</td>\n",
       "      <td>12703920390</td>\n",
       "      <td>2022-01-04 08:37:12+00:00</td>\n",
       "      <td>Αγρίνιο</td>\n",
       "      <td>Breakfast</td>\n",
       "      <td>True</td>\n",
       "      <td>1.7</td>\n",
       "      <td>1</td>\n",
       "    </tr>\n",
       "    <tr>\n",
       "      <th>3</th>\n",
       "      <td>7399605199800</td>\n",
       "      <td>673310109528</td>\n",
       "      <td>2022-01-31 11:33:05+00:00</td>\n",
       "      <td>Λιβαδειά</td>\n",
       "      <td>Breakfast</td>\n",
       "      <td>True</td>\n",
       "      <td>3.0</td>\n",
       "      <td>1</td>\n",
       "    </tr>\n",
       "    <tr>\n",
       "      <th>4</th>\n",
       "      <td>7264221279744</td>\n",
       "      <td>673310109528</td>\n",
       "      <td>2022-01-10 11:18:28+00:00</td>\n",
       "      <td>Λιβαδειά</td>\n",
       "      <td>Breakfast</td>\n",
       "      <td>True</td>\n",
       "      <td>3.0</td>\n",
       "      <td>1</td>\n",
       "    </tr>\n",
       "    <tr>\n",
       "      <th>5</th>\n",
       "      <td>7290656850956</td>\n",
       "      <td>212289897372</td>\n",
       "      <td>2022-01-14 10:49:34+00:00</td>\n",
       "      <td>Λαμία</td>\n",
       "      <td>Breakfast</td>\n",
       "      <td>False</td>\n",
       "      <td>3.0</td>\n",
       "      <td>1</td>\n",
       "    </tr>\n",
       "    <tr>\n",
       "      <th>6</th>\n",
       "      <td>7251782527516</td>\n",
       "      <td>255327451974</td>\n",
       "      <td>2022-01-08 16:39:02+00:00</td>\n",
       "      <td>Βόλος</td>\n",
       "      <td>Breakfast</td>\n",
       "      <td>False</td>\n",
       "      <td>6.2</td>\n",
       "      <td>1</td>\n",
       "    </tr>\n",
       "    <tr>\n",
       "      <th>7</th>\n",
       "      <td>7373393770196</td>\n",
       "      <td>343181291166</td>\n",
       "      <td>2022-01-27 11:08:07+00:00</td>\n",
       "      <td>Βόλος</td>\n",
       "      <td>Breakfast</td>\n",
       "      <td>False</td>\n",
       "      <td>4.1</td>\n",
       "      <td>1</td>\n",
       "    </tr>\n",
       "    <tr>\n",
       "      <th>8</th>\n",
       "      <td>7234487849604</td>\n",
       "      <td>45669681666</td>\n",
       "      <td>2022-01-06 03:38:20+00:00</td>\n",
       "      <td>Βόλος</td>\n",
       "      <td>Breakfast</td>\n",
       "      <td>False</td>\n",
       "      <td>10.5</td>\n",
       "      <td>1</td>\n",
       "    </tr>\n",
       "    <tr>\n",
       "      <th>9</th>\n",
       "      <td>7375190020184</td>\n",
       "      <td>287462587230</td>\n",
       "      <td>2022-01-27 17:59:26+00:00</td>\n",
       "      <td>Βόλος</td>\n",
       "      <td>Breakfast</td>\n",
       "      <td>False</td>\n",
       "      <td>6.3</td>\n",
       "      <td>1</td>\n",
       "    </tr>\n",
       "  </tbody>\n",
       "</table>\n",
       "</div>"
      ],
      "text/plain": [
       "        order_id       user_id           order_timestamp      city    cuisine  \\\n",
       "0  7322173742136   94223136441 2022-01-18 15:41:28+00:00     Αίγιο  Breakfast   \n",
       "1  7210978616924  204794985423 2022-01-02 17:50:50+00:00   Αγρίνιο  Breakfast   \n",
       "2  7221232906132   12703920390 2022-01-04 08:37:12+00:00   Αγρίνιο  Breakfast   \n",
       "3  7399605199800  673310109528 2022-01-31 11:33:05+00:00  Λιβαδειά  Breakfast   \n",
       "4  7264221279744  673310109528 2022-01-10 11:18:28+00:00  Λιβαδειά  Breakfast   \n",
       "5  7290656850956  212289897372 2022-01-14 10:49:34+00:00     Λαμία  Breakfast   \n",
       "6  7251782527516  255327451974 2022-01-08 16:39:02+00:00     Βόλος  Breakfast   \n",
       "7  7373393770196  343181291166 2022-01-27 11:08:07+00:00     Βόλος  Breakfast   \n",
       "8  7234487849604   45669681666 2022-01-06 03:38:20+00:00     Βόλος  Breakfast   \n",
       "9  7375190020184  287462587230 2022-01-27 17:59:26+00:00     Βόλος  Breakfast   \n",
       "\n",
       "   paid_cash  amount  month  \n",
       "0       True     3.6      1  \n",
       "1       True     1.9      1  \n",
       "2       True     1.7      1  \n",
       "3       True     3.0      1  \n",
       "4       True     3.0      1  \n",
       "5      False     3.0      1  \n",
       "6      False     6.2      1  \n",
       "7      False     4.1      1  \n",
       "8      False    10.5      1  \n",
       "9      False     6.3      1  "
      ]
     },
     "execution_count": 5,
     "metadata": {},
     "output_type": "execute_result"
    }
   ],
   "source": [
    "#checking the structure of the data\n",
    "df.head(10)"
   ]
  },
  {
   "cell_type": "code",
   "execution_count": 6,
   "id": "9d65f9c2",
   "metadata": {},
   "outputs": [],
   "source": [
    "# Group the data by the user_id and month columns to get the order frequency\n",
    "frequency = df.groupby(['user_id', 'month']).size().reset_index(name='frequency')"
   ]
  },
  {
   "cell_type": "code",
   "execution_count": 7,
   "id": "1527600f",
   "metadata": {},
   "outputs": [],
   "source": [
    "# Group the data by the user_id column to get the total order value\n",
    "value = df.groupby('user_id').agg({'amount': 'sum'}).reset_index()"
   ]
  },
  {
   "cell_type": "code",
   "execution_count": 8,
   "id": "3f579dee",
   "metadata": {},
   "outputs": [],
   "source": [
    "# Merge the frequency and value data into one DataFrame\n",
    "segmentation = frequency.merge(value, on='user_id')"
   ]
  },
  {
   "cell_type": "code",
   "execution_count": 9,
   "id": "b39a6847",
   "metadata": {},
   "outputs": [
    {
     "data": {
      "text/html": [
       "<div>\n",
       "<style scoped>\n",
       "    .dataframe tbody tr th:only-of-type {\n",
       "        vertical-align: middle;\n",
       "    }\n",
       "\n",
       "    .dataframe tbody tr th {\n",
       "        vertical-align: top;\n",
       "    }\n",
       "\n",
       "    .dataframe thead th {\n",
       "        text-align: right;\n",
       "    }\n",
       "</style>\n",
       "<table border=\"1\" class=\"dataframe\">\n",
       "  <thead>\n",
       "    <tr style=\"text-align: right;\">\n",
       "      <th></th>\n",
       "      <th>user_id</th>\n",
       "      <th>month</th>\n",
       "      <th>frequency</th>\n",
       "      <th>amount</th>\n",
       "    </tr>\n",
       "  </thead>\n",
       "  <tbody>\n",
       "    <tr>\n",
       "      <th>0</th>\n",
       "      <td>44118921</td>\n",
       "      <td>1</td>\n",
       "      <td>1</td>\n",
       "      <td>33.30</td>\n",
       "    </tr>\n",
       "    <tr>\n",
       "      <th>1</th>\n",
       "      <td>108938802</td>\n",
       "      <td>1</td>\n",
       "      <td>3</td>\n",
       "      <td>44.20</td>\n",
       "    </tr>\n",
       "    <tr>\n",
       "      <th>2</th>\n",
       "      <td>110361993</td>\n",
       "      <td>1</td>\n",
       "      <td>11</td>\n",
       "      <td>137.00</td>\n",
       "    </tr>\n",
       "    <tr>\n",
       "      <th>3</th>\n",
       "      <td>138437670</td>\n",
       "      <td>1</td>\n",
       "      <td>1</td>\n",
       "      <td>5.50</td>\n",
       "    </tr>\n",
       "    <tr>\n",
       "      <th>4</th>\n",
       "      <td>144777339</td>\n",
       "      <td>1</td>\n",
       "      <td>14</td>\n",
       "      <td>60.80</td>\n",
       "    </tr>\n",
       "    <tr>\n",
       "      <th>5</th>\n",
       "      <td>145424244</td>\n",
       "      <td>1</td>\n",
       "      <td>12</td>\n",
       "      <td>162.75</td>\n",
       "    </tr>\n",
       "    <tr>\n",
       "      <th>6</th>\n",
       "      <td>153963390</td>\n",
       "      <td>1</td>\n",
       "      <td>3</td>\n",
       "      <td>36.50</td>\n",
       "    </tr>\n",
       "    <tr>\n",
       "      <th>7</th>\n",
       "      <td>155515962</td>\n",
       "      <td>1</td>\n",
       "      <td>1</td>\n",
       "      <td>5.50</td>\n",
       "    </tr>\n",
       "    <tr>\n",
       "      <th>8</th>\n",
       "      <td>165219537</td>\n",
       "      <td>1</td>\n",
       "      <td>1</td>\n",
       "      <td>4.30</td>\n",
       "    </tr>\n",
       "    <tr>\n",
       "      <th>9</th>\n",
       "      <td>167289633</td>\n",
       "      <td>1</td>\n",
       "      <td>2</td>\n",
       "      <td>17.00</td>\n",
       "    </tr>\n",
       "  </tbody>\n",
       "</table>\n",
       "</div>"
      ],
      "text/plain": [
       "     user_id  month  frequency  amount\n",
       "0   44118921      1          1   33.30\n",
       "1  108938802      1          3   44.20\n",
       "2  110361993      1         11  137.00\n",
       "3  138437670      1          1    5.50\n",
       "4  144777339      1         14   60.80\n",
       "5  145424244      1         12  162.75\n",
       "6  153963390      1          3   36.50\n",
       "7  155515962      1          1    5.50\n",
       "8  165219537      1          1    4.30\n",
       "9  167289633      1          2   17.00"
      ]
     },
     "execution_count": 9,
     "metadata": {},
     "output_type": "execute_result"
    }
   ],
   "source": [
    "segmentation.head(10)"
   ]
  },
  {
   "cell_type": "code",
   "execution_count": 17,
   "id": "1da27e33",
   "metadata": {},
   "outputs": [
    {
     "name": "stdout",
     "output_type": "stream",
     "text": [
      "            user_id     month      frequency         amount\n",
      "count  1.219430e+05  121943.0  121943.000000  121943.000000\n",
      "mean   3.266315e+11       1.0       4.381309      37.339123\n",
      "std    2.131171e+11       0.0       5.443188      41.786941\n",
      "min    4.411892e+07       1.0       1.000000       0.400000\n",
      "25%    1.477133e+11       1.0       1.000000      11.600000\n",
      "50%    2.788117e+11       1.0       2.000000      23.300000\n",
      "75%    5.427711e+11       1.0       5.000000      47.300000\n",
      "max    6.855679e+11       1.0     135.000000    1351.500000\n"
     ]
    }
   ],
   "source": [
    "print(segmentation.describe())"
   ]
  },
  {
   "cell_type": "code",
   "execution_count": 9,
   "id": "e415bceb",
   "metadata": {},
   "outputs": [],
   "source": [
    "# Define a function to segment customers based on frequency and order value\n",
    "def customer_segment(row):\n",
    "    if row['frequency'] >= 2 and row['amount'] >= 30:\n",
    "        return 'High Value High Frequency'\n",
    "    elif row['frequency'] >= 2 and row['amount'] < 20:\n",
    "        return 'Low Value High Frequency'\n",
    "    elif row['frequency'] < 2 and row['amount'] >= 30:\n",
    "        return 'High Value Low Frequency'\n",
    "    else:\n",
    "        return 'Low Value Low Frequency'"
   ]
  },
  {
   "cell_type": "code",
   "execution_count": 10,
   "id": "9395a509",
   "metadata": {},
   "outputs": [],
   "source": [
    "# Apply the customer_segment function to the segmentation DataFrame\n",
    "segmentation['segment'] = segmentation.apply(customer_segment, axis=1)"
   ]
  },
  {
   "cell_type": "code",
   "execution_count": 11,
   "id": "dded3692",
   "metadata": {
    "scrolled": true
   },
   "outputs": [
    {
     "ename": "KeyError",
     "evalue": "'cuisine'",
     "output_type": "error",
     "traceback": [
      "\u001b[0;31m---------------------------------------------------------------------------\u001b[0m",
      "\u001b[0;31mKeyError\u001b[0m                                  Traceback (most recent call last)",
      "\u001b[0;32m~/opt/anaconda3/lib/python3.9/site-packages/pandas/core/indexes/base.py\u001b[0m in \u001b[0;36mget_loc\u001b[0;34m(self, key, method, tolerance)\u001b[0m\n\u001b[1;32m   3360\u001b[0m             \u001b[0;32mtry\u001b[0m\u001b[0;34m:\u001b[0m\u001b[0;34m\u001b[0m\u001b[0;34m\u001b[0m\u001b[0m\n\u001b[0;32m-> 3361\u001b[0;31m                 \u001b[0;32mreturn\u001b[0m \u001b[0mself\u001b[0m\u001b[0;34m.\u001b[0m\u001b[0m_engine\u001b[0m\u001b[0;34m.\u001b[0m\u001b[0mget_loc\u001b[0m\u001b[0;34m(\u001b[0m\u001b[0mcasted_key\u001b[0m\u001b[0;34m)\u001b[0m\u001b[0;34m\u001b[0m\u001b[0;34m\u001b[0m\u001b[0m\n\u001b[0m\u001b[1;32m   3362\u001b[0m             \u001b[0;32mexcept\u001b[0m \u001b[0mKeyError\u001b[0m \u001b[0;32mas\u001b[0m \u001b[0merr\u001b[0m\u001b[0;34m:\u001b[0m\u001b[0;34m\u001b[0m\u001b[0;34m\u001b[0m\u001b[0m\n",
      "\u001b[0;32m~/opt/anaconda3/lib/python3.9/site-packages/pandas/_libs/index.pyx\u001b[0m in \u001b[0;36mpandas._libs.index.IndexEngine.get_loc\u001b[0;34m()\u001b[0m\n",
      "\u001b[0;32m~/opt/anaconda3/lib/python3.9/site-packages/pandas/_libs/index.pyx\u001b[0m in \u001b[0;36mpandas._libs.index.IndexEngine.get_loc\u001b[0;34m()\u001b[0m\n",
      "\u001b[0;32mpandas/_libs/hashtable_class_helper.pxi\u001b[0m in \u001b[0;36mpandas._libs.hashtable.PyObjectHashTable.get_item\u001b[0;34m()\u001b[0m\n",
      "\u001b[0;32mpandas/_libs/hashtable_class_helper.pxi\u001b[0m in \u001b[0;36mpandas._libs.hashtable.PyObjectHashTable.get_item\u001b[0;34m()\u001b[0m\n",
      "\u001b[0;31mKeyError\u001b[0m: 'cuisine'",
      "\nThe above exception was the direct cause of the following exception:\n",
      "\u001b[0;31mKeyError\u001b[0m                                  Traceback (most recent call last)",
      "\u001b[0;32m/var/folders/c1/cx4ljrk11rnctwvjxm_5xl6w0000gn/T/ipykernel_1876/3098091572.py\u001b[0m in \u001b[0;36m<module>\u001b[0;34m\u001b[0m\n\u001b[0;32m----> 1\u001b[0;31m \u001b[0mbreakfast_segment\u001b[0m \u001b[0;34m=\u001b[0m \u001b[0msegmentation\u001b[0m\u001b[0;34m[\u001b[0m\u001b[0msegmentation\u001b[0m\u001b[0;34m[\u001b[0m\u001b[0;34m'cuisine'\u001b[0m\u001b[0;34m]\u001b[0m \u001b[0;34m==\u001b[0m \u001b[0;34m'Breakfast'\u001b[0m\u001b[0;34m]\u001b[0m\u001b[0;34m\u001b[0m\u001b[0;34m\u001b[0m\u001b[0m\n\u001b[0m",
      "\u001b[0;32m~/opt/anaconda3/lib/python3.9/site-packages/pandas/core/frame.py\u001b[0m in \u001b[0;36m__getitem__\u001b[0;34m(self, key)\u001b[0m\n\u001b[1;32m   3456\u001b[0m             \u001b[0;32mif\u001b[0m \u001b[0mself\u001b[0m\u001b[0;34m.\u001b[0m\u001b[0mcolumns\u001b[0m\u001b[0;34m.\u001b[0m\u001b[0mnlevels\u001b[0m \u001b[0;34m>\u001b[0m \u001b[0;36m1\u001b[0m\u001b[0;34m:\u001b[0m\u001b[0;34m\u001b[0m\u001b[0;34m\u001b[0m\u001b[0m\n\u001b[1;32m   3457\u001b[0m                 \u001b[0;32mreturn\u001b[0m \u001b[0mself\u001b[0m\u001b[0;34m.\u001b[0m\u001b[0m_getitem_multilevel\u001b[0m\u001b[0;34m(\u001b[0m\u001b[0mkey\u001b[0m\u001b[0;34m)\u001b[0m\u001b[0;34m\u001b[0m\u001b[0;34m\u001b[0m\u001b[0m\n\u001b[0;32m-> 3458\u001b[0;31m             \u001b[0mindexer\u001b[0m \u001b[0;34m=\u001b[0m \u001b[0mself\u001b[0m\u001b[0;34m.\u001b[0m\u001b[0mcolumns\u001b[0m\u001b[0;34m.\u001b[0m\u001b[0mget_loc\u001b[0m\u001b[0;34m(\u001b[0m\u001b[0mkey\u001b[0m\u001b[0;34m)\u001b[0m\u001b[0;34m\u001b[0m\u001b[0;34m\u001b[0m\u001b[0m\n\u001b[0m\u001b[1;32m   3459\u001b[0m             \u001b[0;32mif\u001b[0m \u001b[0mis_integer\u001b[0m\u001b[0;34m(\u001b[0m\u001b[0mindexer\u001b[0m\u001b[0;34m)\u001b[0m\u001b[0;34m:\u001b[0m\u001b[0;34m\u001b[0m\u001b[0;34m\u001b[0m\u001b[0m\n\u001b[1;32m   3460\u001b[0m                 \u001b[0mindexer\u001b[0m \u001b[0;34m=\u001b[0m \u001b[0;34m[\u001b[0m\u001b[0mindexer\u001b[0m\u001b[0;34m]\u001b[0m\u001b[0;34m\u001b[0m\u001b[0;34m\u001b[0m\u001b[0m\n",
      "\u001b[0;32m~/opt/anaconda3/lib/python3.9/site-packages/pandas/core/indexes/base.py\u001b[0m in \u001b[0;36mget_loc\u001b[0;34m(self, key, method, tolerance)\u001b[0m\n\u001b[1;32m   3361\u001b[0m                 \u001b[0;32mreturn\u001b[0m \u001b[0mself\u001b[0m\u001b[0;34m.\u001b[0m\u001b[0m_engine\u001b[0m\u001b[0;34m.\u001b[0m\u001b[0mget_loc\u001b[0m\u001b[0;34m(\u001b[0m\u001b[0mcasted_key\u001b[0m\u001b[0;34m)\u001b[0m\u001b[0;34m\u001b[0m\u001b[0;34m\u001b[0m\u001b[0m\n\u001b[1;32m   3362\u001b[0m             \u001b[0;32mexcept\u001b[0m \u001b[0mKeyError\u001b[0m \u001b[0;32mas\u001b[0m \u001b[0merr\u001b[0m\u001b[0;34m:\u001b[0m\u001b[0;34m\u001b[0m\u001b[0;34m\u001b[0m\u001b[0m\n\u001b[0;32m-> 3363\u001b[0;31m                 \u001b[0;32mraise\u001b[0m \u001b[0mKeyError\u001b[0m\u001b[0;34m(\u001b[0m\u001b[0mkey\u001b[0m\u001b[0;34m)\u001b[0m \u001b[0;32mfrom\u001b[0m \u001b[0merr\u001b[0m\u001b[0;34m\u001b[0m\u001b[0;34m\u001b[0m\u001b[0m\n\u001b[0m\u001b[1;32m   3364\u001b[0m \u001b[0;34m\u001b[0m\u001b[0m\n\u001b[1;32m   3365\u001b[0m         \u001b[0;32mif\u001b[0m \u001b[0mis_scalar\u001b[0m\u001b[0;34m(\u001b[0m\u001b[0mkey\u001b[0m\u001b[0;34m)\u001b[0m \u001b[0;32mand\u001b[0m \u001b[0misna\u001b[0m\u001b[0;34m(\u001b[0m\u001b[0mkey\u001b[0m\u001b[0;34m)\u001b[0m \u001b[0;32mand\u001b[0m \u001b[0;32mnot\u001b[0m \u001b[0mself\u001b[0m\u001b[0;34m.\u001b[0m\u001b[0mhasnans\u001b[0m\u001b[0;34m:\u001b[0m\u001b[0;34m\u001b[0m\u001b[0;34m\u001b[0m\u001b[0m\n",
      "\u001b[0;31mKeyError\u001b[0m: 'cuisine'"
     ]
    }
   ],
   "source": [
    "breakfast_segment = segmentation[segmentation['cuisine'] == 'Breakfast']"
   ]
  },
  {
   "cell_type": "code",
   "execution_count": 17,
   "id": "c78d8183",
   "metadata": {},
   "outputs": [
    {
     "data": {
      "text/html": [
       "<div>\n",
       "<style scoped>\n",
       "    .dataframe tbody tr th:only-of-type {\n",
       "        vertical-align: middle;\n",
       "    }\n",
       "\n",
       "    .dataframe tbody tr th {\n",
       "        vertical-align: top;\n",
       "    }\n",
       "\n",
       "    .dataframe thead th {\n",
       "        text-align: right;\n",
       "    }\n",
       "</style>\n",
       "<table border=\"1\" class=\"dataframe\">\n",
       "  <thead>\n",
       "    <tr style=\"text-align: right;\">\n",
       "      <th></th>\n",
       "      <th>order_id</th>\n",
       "      <th>user_id</th>\n",
       "      <th>order_timestamp</th>\n",
       "      <th>city</th>\n",
       "      <th>cuisine</th>\n",
       "      <th>paid_cash</th>\n",
       "      <th>amount</th>\n",
       "      <th>month</th>\n",
       "    </tr>\n",
       "  </thead>\n",
       "  <tbody>\n",
       "    <tr>\n",
       "      <th>0</th>\n",
       "      <td>7322173742136</td>\n",
       "      <td>94223136441</td>\n",
       "      <td>2022-01-18 15:41:28+00:00</td>\n",
       "      <td>Αίγιο</td>\n",
       "      <td>Breakfast</td>\n",
       "      <td>True</td>\n",
       "      <td>3.6</td>\n",
       "      <td>1</td>\n",
       "    </tr>\n",
       "    <tr>\n",
       "      <th>1</th>\n",
       "      <td>7210978616924</td>\n",
       "      <td>204794985423</td>\n",
       "      <td>2022-01-02 17:50:50+00:00</td>\n",
       "      <td>Αγρίνιο</td>\n",
       "      <td>Breakfast</td>\n",
       "      <td>True</td>\n",
       "      <td>1.9</td>\n",
       "      <td>1</td>\n",
       "    </tr>\n",
       "    <tr>\n",
       "      <th>2</th>\n",
       "      <td>7221232906132</td>\n",
       "      <td>12703920390</td>\n",
       "      <td>2022-01-04 08:37:12+00:00</td>\n",
       "      <td>Αγρίνιο</td>\n",
       "      <td>Breakfast</td>\n",
       "      <td>True</td>\n",
       "      <td>1.7</td>\n",
       "      <td>1</td>\n",
       "    </tr>\n",
       "    <tr>\n",
       "      <th>3</th>\n",
       "      <td>7399605199800</td>\n",
       "      <td>673310109528</td>\n",
       "      <td>2022-01-31 11:33:05+00:00</td>\n",
       "      <td>Λιβαδειά</td>\n",
       "      <td>Breakfast</td>\n",
       "      <td>True</td>\n",
       "      <td>3.0</td>\n",
       "      <td>1</td>\n",
       "    </tr>\n",
       "    <tr>\n",
       "      <th>4</th>\n",
       "      <td>7264221279744</td>\n",
       "      <td>673310109528</td>\n",
       "      <td>2022-01-10 11:18:28+00:00</td>\n",
       "      <td>Λιβαδειά</td>\n",
       "      <td>Breakfast</td>\n",
       "      <td>True</td>\n",
       "      <td>3.0</td>\n",
       "      <td>1</td>\n",
       "    </tr>\n",
       "    <tr>\n",
       "      <th>5</th>\n",
       "      <td>7290656850956</td>\n",
       "      <td>212289897372</td>\n",
       "      <td>2022-01-14 10:49:34+00:00</td>\n",
       "      <td>Λαμία</td>\n",
       "      <td>Breakfast</td>\n",
       "      <td>False</td>\n",
       "      <td>3.0</td>\n",
       "      <td>1</td>\n",
       "    </tr>\n",
       "    <tr>\n",
       "      <th>6</th>\n",
       "      <td>7251782527516</td>\n",
       "      <td>255327451974</td>\n",
       "      <td>2022-01-08 16:39:02+00:00</td>\n",
       "      <td>Βόλος</td>\n",
       "      <td>Breakfast</td>\n",
       "      <td>False</td>\n",
       "      <td>6.2</td>\n",
       "      <td>1</td>\n",
       "    </tr>\n",
       "    <tr>\n",
       "      <th>7</th>\n",
       "      <td>7373393770196</td>\n",
       "      <td>343181291166</td>\n",
       "      <td>2022-01-27 11:08:07+00:00</td>\n",
       "      <td>Βόλος</td>\n",
       "      <td>Breakfast</td>\n",
       "      <td>False</td>\n",
       "      <td>4.1</td>\n",
       "      <td>1</td>\n",
       "    </tr>\n",
       "    <tr>\n",
       "      <th>8</th>\n",
       "      <td>7234487849604</td>\n",
       "      <td>45669681666</td>\n",
       "      <td>2022-01-06 03:38:20+00:00</td>\n",
       "      <td>Βόλος</td>\n",
       "      <td>Breakfast</td>\n",
       "      <td>False</td>\n",
       "      <td>10.5</td>\n",
       "      <td>1</td>\n",
       "    </tr>\n",
       "    <tr>\n",
       "      <th>9</th>\n",
       "      <td>7375190020184</td>\n",
       "      <td>287462587230</td>\n",
       "      <td>2022-01-27 17:59:26+00:00</td>\n",
       "      <td>Βόλος</td>\n",
       "      <td>Breakfast</td>\n",
       "      <td>False</td>\n",
       "      <td>6.3</td>\n",
       "      <td>1</td>\n",
       "    </tr>\n",
       "  </tbody>\n",
       "</table>\n",
       "</div>"
      ],
      "text/plain": [
       "        order_id       user_id           order_timestamp      city    cuisine  \\\n",
       "0  7322173742136   94223136441 2022-01-18 15:41:28+00:00     Αίγιο  Breakfast   \n",
       "1  7210978616924  204794985423 2022-01-02 17:50:50+00:00   Αγρίνιο  Breakfast   \n",
       "2  7221232906132   12703920390 2022-01-04 08:37:12+00:00   Αγρίνιο  Breakfast   \n",
       "3  7399605199800  673310109528 2022-01-31 11:33:05+00:00  Λιβαδειά  Breakfast   \n",
       "4  7264221279744  673310109528 2022-01-10 11:18:28+00:00  Λιβαδειά  Breakfast   \n",
       "5  7290656850956  212289897372 2022-01-14 10:49:34+00:00     Λαμία  Breakfast   \n",
       "6  7251782527516  255327451974 2022-01-08 16:39:02+00:00     Βόλος  Breakfast   \n",
       "7  7373393770196  343181291166 2022-01-27 11:08:07+00:00     Βόλος  Breakfast   \n",
       "8  7234487849604   45669681666 2022-01-06 03:38:20+00:00     Βόλος  Breakfast   \n",
       "9  7375190020184  287462587230 2022-01-27 17:59:26+00:00     Βόλος  Breakfast   \n",
       "\n",
       "   paid_cash  amount  month  \n",
       "0       True     3.6      1  \n",
       "1       True     1.9      1  \n",
       "2       True     1.7      1  \n",
       "3       True     3.0      1  \n",
       "4       True     3.0      1  \n",
       "5      False     3.0      1  \n",
       "6      False     6.2      1  \n",
       "7      False     4.1      1  \n",
       "8      False    10.5      1  \n",
       "9      False     6.3      1  "
      ]
     },
     "execution_count": 17,
     "metadata": {},
     "output_type": "execute_result"
    }
   ],
   "source": [
    "breakfast_df.head(10)"
   ]
  },
  {
   "cell_type": "code",
   "execution_count": 18,
   "id": "c579f4b7",
   "metadata": {
    "scrolled": true
   },
   "outputs": [
    {
     "ename": "KeyError",
     "evalue": "'segment'",
     "output_type": "error",
     "traceback": [
      "\u001b[0;31m---------------------------------------------------------------------------\u001b[0m",
      "\u001b[0;31mKeyError\u001b[0m                                  Traceback (most recent call last)",
      "\u001b[0;32m/var/folders/c1/cx4ljrk11rnctwvjxm_5xl6w0000gn/T/ipykernel_1795/3278447709.py\u001b[0m in \u001b[0;36m<module>\u001b[0;34m\u001b[0m\n\u001b[1;32m      1\u001b[0m \u001b[0;31m#group the breakfast data by the segment column\u001b[0m\u001b[0;34m\u001b[0m\u001b[0;34m\u001b[0m\u001b[0m\n\u001b[1;32m      2\u001b[0m \u001b[0;31m#i have an error here\u001b[0m\u001b[0;34m\u001b[0m\u001b[0;34m\u001b[0m\u001b[0m\n\u001b[0;32m----> 3\u001b[0;31m \u001b[0mbreakfast_segment\u001b[0m \u001b[0;34m=\u001b[0m \u001b[0mbreakfast_df\u001b[0m\u001b[0;34m.\u001b[0m\u001b[0mgroupby\u001b[0m\u001b[0;34m(\u001b[0m\u001b[0;34m'segment'\u001b[0m\u001b[0;34m)\u001b[0m\u001b[0;34m.\u001b[0m\u001b[0magg\u001b[0m\u001b[0;34m(\u001b[0m\u001b[0;34m{\u001b[0m\u001b[0;34m'user_id'\u001b[0m\u001b[0;34m:\u001b[0m \u001b[0;34m'amount'\u001b[0m\u001b[0;34m}\u001b[0m\u001b[0;34m)\u001b[0m\u001b[0;34m.\u001b[0m\u001b[0mreset_index\u001b[0m\u001b[0;34m(\u001b[0m\u001b[0;34m)\u001b[0m\u001b[0;34m\u001b[0m\u001b[0;34m\u001b[0m\u001b[0m\n\u001b[0m",
      "\u001b[0;32m~/opt/anaconda3/lib/python3.9/site-packages/pandas/core/frame.py\u001b[0m in \u001b[0;36mgroupby\u001b[0;34m(self, by, axis, level, as_index, sort, group_keys, squeeze, observed, dropna)\u001b[0m\n\u001b[1;32m   7629\u001b[0m         \u001b[0;31m# error: Argument \"squeeze\" to \"DataFrameGroupBy\" has incompatible type\u001b[0m\u001b[0;34m\u001b[0m\u001b[0;34m\u001b[0m\u001b[0m\n\u001b[1;32m   7630\u001b[0m         \u001b[0;31m# \"Union[bool, NoDefault]\"; expected \"bool\"\u001b[0m\u001b[0;34m\u001b[0m\u001b[0;34m\u001b[0m\u001b[0m\n\u001b[0;32m-> 7631\u001b[0;31m         return DataFrameGroupBy(\n\u001b[0m\u001b[1;32m   7632\u001b[0m             \u001b[0mobj\u001b[0m\u001b[0;34m=\u001b[0m\u001b[0mself\u001b[0m\u001b[0;34m,\u001b[0m\u001b[0;34m\u001b[0m\u001b[0;34m\u001b[0m\u001b[0m\n\u001b[1;32m   7633\u001b[0m             \u001b[0mkeys\u001b[0m\u001b[0;34m=\u001b[0m\u001b[0mby\u001b[0m\u001b[0;34m,\u001b[0m\u001b[0;34m\u001b[0m\u001b[0;34m\u001b[0m\u001b[0m\n",
      "\u001b[0;32m~/opt/anaconda3/lib/python3.9/site-packages/pandas/core/groupby/groupby.py\u001b[0m in \u001b[0;36m__init__\u001b[0;34m(self, obj, keys, axis, level, grouper, exclusions, selection, as_index, sort, group_keys, squeeze, observed, mutated, dropna)\u001b[0m\n\u001b[1;32m    887\u001b[0m             \u001b[0;32mfrom\u001b[0m \u001b[0mpandas\u001b[0m\u001b[0;34m.\u001b[0m\u001b[0mcore\u001b[0m\u001b[0;34m.\u001b[0m\u001b[0mgroupby\u001b[0m\u001b[0;34m.\u001b[0m\u001b[0mgrouper\u001b[0m \u001b[0;32mimport\u001b[0m \u001b[0mget_grouper\u001b[0m\u001b[0;34m\u001b[0m\u001b[0;34m\u001b[0m\u001b[0m\n\u001b[1;32m    888\u001b[0m \u001b[0;34m\u001b[0m\u001b[0m\n\u001b[0;32m--> 889\u001b[0;31m             grouper, exclusions, obj = get_grouper(\n\u001b[0m\u001b[1;32m    890\u001b[0m                 \u001b[0mobj\u001b[0m\u001b[0;34m,\u001b[0m\u001b[0;34m\u001b[0m\u001b[0;34m\u001b[0m\u001b[0m\n\u001b[1;32m    891\u001b[0m                 \u001b[0mkeys\u001b[0m\u001b[0;34m,\u001b[0m\u001b[0;34m\u001b[0m\u001b[0;34m\u001b[0m\u001b[0m\n",
      "\u001b[0;32m~/opt/anaconda3/lib/python3.9/site-packages/pandas/core/groupby/grouper.py\u001b[0m in \u001b[0;36mget_grouper\u001b[0;34m(obj, key, axis, level, sort, observed, mutated, validate, dropna)\u001b[0m\n\u001b[1;32m    860\u001b[0m                 \u001b[0min_axis\u001b[0m\u001b[0;34m,\u001b[0m \u001b[0mlevel\u001b[0m\u001b[0;34m,\u001b[0m \u001b[0mgpr\u001b[0m \u001b[0;34m=\u001b[0m \u001b[0;32mFalse\u001b[0m\u001b[0;34m,\u001b[0m \u001b[0mgpr\u001b[0m\u001b[0;34m,\u001b[0m \u001b[0;32mNone\u001b[0m\u001b[0;34m\u001b[0m\u001b[0;34m\u001b[0m\u001b[0m\n\u001b[1;32m    861\u001b[0m             \u001b[0;32melse\u001b[0m\u001b[0;34m:\u001b[0m\u001b[0;34m\u001b[0m\u001b[0;34m\u001b[0m\u001b[0m\n\u001b[0;32m--> 862\u001b[0;31m                 \u001b[0;32mraise\u001b[0m \u001b[0mKeyError\u001b[0m\u001b[0;34m(\u001b[0m\u001b[0mgpr\u001b[0m\u001b[0;34m)\u001b[0m\u001b[0;34m\u001b[0m\u001b[0;34m\u001b[0m\u001b[0m\n\u001b[0m\u001b[1;32m    863\u001b[0m         \u001b[0;32melif\u001b[0m \u001b[0misinstance\u001b[0m\u001b[0;34m(\u001b[0m\u001b[0mgpr\u001b[0m\u001b[0;34m,\u001b[0m \u001b[0mGrouper\u001b[0m\u001b[0;34m)\u001b[0m \u001b[0;32mand\u001b[0m \u001b[0mgpr\u001b[0m\u001b[0;34m.\u001b[0m\u001b[0mkey\u001b[0m \u001b[0;32mis\u001b[0m \u001b[0;32mnot\u001b[0m \u001b[0;32mNone\u001b[0m\u001b[0;34m:\u001b[0m\u001b[0;34m\u001b[0m\u001b[0;34m\u001b[0m\u001b[0m\n\u001b[1;32m    864\u001b[0m             \u001b[0;31m# Add key to exclusions\u001b[0m\u001b[0;34m\u001b[0m\u001b[0;34m\u001b[0m\u001b[0m\n",
      "\u001b[0;31mKeyError\u001b[0m: 'segment'"
     ]
    }
   ],
   "source": [
    "#group the breakfast data by the segment column\n",
    "#i have an error here\n",
    "breakfast_segment = breakfast_df.groupby('segment').agg({'user_id': 'count'}).reset_index()"
   ]
  },
  {
   "cell_type": "code",
   "execution_count": 31,
   "id": "81e25ef7",
   "metadata": {},
   "outputs": [
    {
     "ename": "NameError",
     "evalue": "name 'breakfast_segment' is not defined",
     "output_type": "error",
     "traceback": [
      "\u001b[0;31m---------------------------------------------------------------------------\u001b[0m",
      "\u001b[0;31mNameError\u001b[0m                                 Traceback (most recent call last)",
      "\u001b[0;32m/var/folders/c1/cx4ljrk11rnctwvjxm_5xl6w0000gn/T/ipykernel_1876/2346347043.py\u001b[0m in \u001b[0;36m<module>\u001b[0;34m\u001b[0m\n\u001b[1;32m      1\u001b[0m \u001b[0;31m#plot the number of users in each segment\u001b[0m\u001b[0;34m\u001b[0m\u001b[0;34m\u001b[0m\u001b[0m\n\u001b[0;32m----> 2\u001b[0;31m \u001b[0mplt\u001b[0m\u001b[0;34m.\u001b[0m\u001b[0mbar\u001b[0m\u001b[0;34m(\u001b[0m\u001b[0mbreakfast_segment\u001b[0m\u001b[0;34m[\u001b[0m\u001b[0;34m'segment'\u001b[0m\u001b[0;34m]\u001b[0m\u001b[0;34m,\u001b[0m \u001b[0mbreakfast_segment\u001b[0m\u001b[0;34m[\u001b[0m\u001b[0;34m'user_id'\u001b[0m\u001b[0;34m]\u001b[0m\u001b[0;34m)\u001b[0m\u001b[0;34m\u001b[0m\u001b[0;34m\u001b[0m\u001b[0m\n\u001b[0m\u001b[1;32m      3\u001b[0m \u001b[0mplt\u001b[0m\u001b[0;34m.\u001b[0m\u001b[0mxlabel\u001b[0m\u001b[0;34m(\u001b[0m\u001b[0;34m'Segment'\u001b[0m\u001b[0;34m)\u001b[0m\u001b[0;34m\u001b[0m\u001b[0;34m\u001b[0m\u001b[0m\n\u001b[1;32m      4\u001b[0m \u001b[0mplt\u001b[0m\u001b[0;34m.\u001b[0m\u001b[0mylabel\u001b[0m\u001b[0;34m(\u001b[0m\u001b[0;34m'Number of users'\u001b[0m\u001b[0;34m)\u001b[0m\u001b[0;34m\u001b[0m\u001b[0;34m\u001b[0m\u001b[0m\n\u001b[1;32m      5\u001b[0m \u001b[0mplt\u001b[0m\u001b[0;34m.\u001b[0m\u001b[0mtitle\u001b[0m\u001b[0;34m(\u001b[0m\u001b[0;34m'Breakfast Orders by User Segment'\u001b[0m\u001b[0;34m)\u001b[0m\u001b[0;34m\u001b[0m\u001b[0;34m\u001b[0m\u001b[0m\n",
      "\u001b[0;31mNameError\u001b[0m: name 'breakfast_segment' is not defined"
     ]
    }
   ],
   "source": [
    "#plot the number of users in each segment\n",
    "plt.bar(breakfast_segment['segment'], breakfast_segment['user_id'])\n",
    "plt.xlabel('Segment')\n",
    "plt.ylabel('Number of users')\n",
    "plt.title('Breakfast Orders by User Segment')\n",
    "plt.show()"
   ]
  },
  {
   "cell_type": "code",
   "execution_count": 19,
   "id": "1788fc54",
   "metadata": {
    "scrolled": true
   },
   "outputs": [
    {
     "ename": "NameError",
     "evalue": "name 'breakfast_segment' is not defined",
     "output_type": "error",
     "traceback": [
      "\u001b[0;31m---------------------------------------------------------------------------\u001b[0m",
      "\u001b[0;31mNameError\u001b[0m                                 Traceback (most recent call last)",
      "\u001b[0;32m/var/folders/c1/cx4ljrk11rnctwvjxm_5xl6w0000gn/T/ipykernel_1795/1129275231.py\u001b[0m in \u001b[0;36m<module>\u001b[0;34m\u001b[0m\n\u001b[1;32m      1\u001b[0m \u001b[0;31m# Find the segment with the most number of users who ordered Breakfast cuisine_parent\u001b[0m\u001b[0;34m\u001b[0m\u001b[0;34m\u001b[0m\u001b[0m\n\u001b[0;32m----> 2\u001b[0;31m \u001b[0mvaluable_target\u001b[0m \u001b[0;34m=\u001b[0m \u001b[0mbreakfast_segment\u001b[0m\u001b[0;34m.\u001b[0m\u001b[0mloc\u001b[0m\u001b[0;34m[\u001b[0m\u001b[0mbreakfast_segment\u001b[0m\u001b[0;34m[\u001b[0m\u001b[0;34m'user_id'\u001b[0m\u001b[0;34m]\u001b[0m\u001b[0;34m.\u001b[0m\u001b[0midxmax\u001b[0m\u001b[0;34m(\u001b[0m\u001b[0;34m)\u001b[0m\u001b[0;34m,\u001b[0m \u001b[0;34m'segment'\u001b[0m\u001b[0;34m]\u001b[0m\u001b[0;34m\u001b[0m\u001b[0;34m\u001b[0m\u001b[0m\n\u001b[0m",
      "\u001b[0;31mNameError\u001b[0m: name 'breakfast_segment' is not defined"
     ]
    }
   ],
   "source": [
    "# Find the segment with the most number of users who ordered Breakfast cuisine_parent\n",
    "valuable_target = breakfast_segment.loc[breakfast_segment['user_id'].idxmax(), 'segment']"
   ]
  },
  {
   "cell_type": "code",
   "execution_count": null,
   "id": "5222233c",
   "metadata": {},
   "outputs": [],
   "source": [
    "# Print the result\n",
    "print(\"The valuable target segment for a Marketing campaign about Breakfast cuisine_parent is:\", valuable_target)"
   ]
  },
  {
   "cell_type": "code",
   "execution_count": 12,
   "id": "627da2f3",
   "metadata": {},
   "outputs": [],
   "source": [
    "import matplotlib.pyplot as plt"
   ]
  },
  {
   "cell_type": "code",
   "execution_count": 17,
   "id": "aec7be29",
   "metadata": {},
   "outputs": [
    {
     "data": {
      "image/png": "[encoded data removed]",
      "text/plain": [
       "<Figure size 432x288 with 1 Axes>"
      ]
     },
     "metadata": {
      "needs_background": "light"
     },
     "output_type": "display_data"
    }
   ],
   "source": [
    "# Plot the customer segments as a bar chart\n",
    "plt.bar(segmentation['segment'].value_counts().index, segmentation['segment'].value_counts().values)\n",
    "\n",
    "# Add labels to the x and y axes\n",
    "plt.xlabel('Customer Segment')\n",
    "plt.ylabel('Number of Customers')\n",
    "\n",
    "# Add a title to the chart\n",
    "plt.title('Customer Segmentation')\n",
    "\n",
    "# Show the plot\n",
    "plt.show()"
   ]
  },
  {
   "cell_type": "code",
   "execution_count": 18,
   "id": "84f4cd17",
   "metadata": {},
   "outputs": [],
   "source": [
    "# Filter the data to only include breakfast orders\n",
    "breakfast_df = df[df['cuisine'] == 'Breakfast']\n"
   ]
  },
  {
   "cell_type": "code",
   "execution_count": 19,
   "id": "b1048f44",
   "metadata": {},
   "outputs": [],
   "source": [
    "# Group the data by city and count the number of orders in each city\n",
    "city_counts = breakfast_df.groupby('city').count()['order_id']"
   ]
  },
  {
   "cell_type": "code",
   "execution_count": 20,
   "id": "0f93edcd",
   "metadata": {},
   "outputs": [
    {
     "data": {
      "image/png": "[encoded data removed]",
      "text/plain": [
       "<Figure size 432x288 with 1 Axes>"
      ]
     },
     "metadata": {
      "needs_background": "light"
     },
     "output_type": "display_data"
    }
   ],
   "source": [
    "# Plot the city counts as a bar chart\n",
    "plt.bar(city_counts.index, city_counts.values)\n",
    "\n",
    "# Add labels to the x and y axes\n",
    "plt.xlabel('City')\n",
    "plt.ylabel('Number of Breakfast Orders')\n",
    "\n",
    "# Add a title to the chart\n",
    "plt.title('Number of Breakfast Orders by City')\n",
    "\n",
    "# Show the plot\n",
    "plt.show()"
   ]
  },
  {
   "cell_type": "code",
   "execution_count": 21,
   "id": "b50d7594",
   "metadata": {},
   "outputs": [],
   "source": [
    "# Calculate the mean of the \"amount\" column for breakfast orders\n",
    "mean_amount = breakfast_df[\"amount\"].mean()\n",
    "\n",
    "# Calculate the median of the \"amount\" column for breakfast orders\n",
    "median_amount = breakfast_df[\"amount\"].median()\n",
    "\n",
    "# Calculate the standard deviation of the \"amount\" column for breakfast orders\n",
    "std_amount = breakfast_df[\"amount\"].std()\n",
    "\n",
    "# Calculate the minimum and maximum of the \"amount\" column for breakfast orders\n",
    "min_amount = breakfast_df[\"amount\"].min()\n",
    "max_amount = breakfast_df[\"amount\"].max()"
   ]
  },
  {
   "cell_type": "code",
   "execution_count": 22,
   "id": "adb2df84",
   "metadata": {},
   "outputs": [
    {
     "name": "stdout",
     "output_type": "stream",
     "text": [
      "Mean:  5.093825295845916\n",
      "Median:  4.4\n",
      "Standard Deviation:  3.248764176066746\n",
      "Minimum:  0.4\n",
      "Maximum:  150.0\n"
     ]
    }
   ],
   "source": [
    "# Print the results\n",
    "print(\"Mean: \", mean_amount)\n",
    "print(\"Median: \", median_amount)\n",
    "print(\"Standard Deviation: \", std_amount)\n",
    "print(\"Minimum: \", min_amount)\n",
    "print(\"Maximum: \", max_amount)"
   ]
  },
  {
   "cell_type": "code",
   "execution_count": 23,
   "id": "552c268d",
   "metadata": {},
   "outputs": [],
   "source": [
    "# Group the data by city\n",
    "city_group = breakfast_df.groupby(['city'])\n",
    "\n",
    "# Calculate the mean order value and number of orders per city\n",
    "city_stats = city_group.agg({'amount': 'mean', 'order_id': 'count'})\n",
    "\n",
    "# Rename the columns to be more descriptive\n",
    "city_stats = city_stats.rename(columns={'amount': 'mean_order_value', 'order_id': 'number_of_orders'})"
   ]
  },
  {
   "cell_type": "code",
   "execution_count": 24,
   "id": "1d0a85ea",
   "metadata": {},
   "outputs": [
    {
     "data": {
      "image/png": "[encoded data removed]",
      "text/plain": [
       "<Figure size 432x288 with 1 Axes>"
      ]
     },
     "metadata": {
      "needs_background": "light"
     },
     "output_type": "display_data"
    }
   ],
   "source": [
    "# Plot the mean order value and number of orders per city\n",
    "city_stats.plot(kind='scatter', x='mean_order_value', y='number_of_orders', s=100)\n",
    "\n",
    "# Add a title and axis labels to the plot\n",
    "plt.title(\"Breakfast Orders per City\")\n",
    "plt.xlabel(\"Mean Order Value\")\n",
    "plt.ylabel(\"Number of Orders\")\n",
    "\n",
    "# Show the plot\n",
    "plt.show()"
   ]
  },
  {
   "cell_type": "code",
   "execution_count": 27,
   "id": "ff0412ed",
   "metadata": {},
   "outputs": [
    {
     "ename": "ModuleNotFoundError",
     "evalue": "No module named 'prophet'",
     "output_type": "error",
     "traceback": [
      "\u001b[0;31m---------------------------------------------------------------------------\u001b[0m",
      "\u001b[0;31mModuleNotFoundError\u001b[0m                       Traceback (most recent call last)",
      "\u001b[0;32m/var/folders/c1/cx4ljrk11rnctwvjxm_5xl6w0000gn/T/ipykernel_1876/3927910794.py\u001b[0m in \u001b[0;36m<module>\u001b[0;34m\u001b[0m\n\u001b[1;32m      1\u001b[0m \u001b[0;31m#try to predicte something throught the time, the orders of breakfast\u001b[0m\u001b[0;34m\u001b[0m\u001b[0;34m\u001b[0m\u001b[0m\n\u001b[1;32m      2\u001b[0m \u001b[0;32mimport\u001b[0m \u001b[0mpandas\u001b[0m \u001b[0;32mas\u001b[0m \u001b[0mpd\u001b[0m\u001b[0;34m\u001b[0m\u001b[0;34m\u001b[0m\u001b[0m\n\u001b[0;32m----> 3\u001b[0;31m \u001b[0;32mfrom\u001b[0m \u001b[0mprophet\u001b[0m \u001b[0;32mimport\u001b[0m \u001b[0mProphet\u001b[0m\u001b[0;34m\u001b[0m\u001b[0;34m\u001b[0m\u001b[0m\n\u001b[0m",
      "\u001b[0;31mModuleNotFoundError\u001b[0m: No module named 'prophet'"
     ]
    }
   ],
   "source": [
    "#try to predicte something throught the time, the orders of breakfast\n",
    "import pandas as pd\n",
    "from prophet import Prophet\n",
    "\n",
    "breakfast_df = breakfast_df[['order_timestamp', 'order_id']]\n",
    "\n",
    "# Rename the columns to match the format required by Prophet\n",
    "breakfast_df = breakfast_df.rename(columns={'order_timestamp': 'ds', 'order_id': 'y'})\n",
    "\n",
    "# Create a Prophet model\n",
    "model = Prophet()\n",
    "\n",
    "# Fit the model to the data\n",
    "model.fit(breakfast_df)\n",
    "\n",
    "# Create a dataframe to hold future dates\n",
    "future_dates = model.make_future_dataframe(periods=365)\n",
    "\n",
    "# Make predictions for the future\n",
    "forecast = model.predict(future_dates)\n",
    "\n",
    "# Plot the results\n",
    "model.plot(forecast)"
   ]
  },
  {
   "cell_type": "markdown",
   "id": "cb23e7b6",
   "metadata": {},
   "source": [
    "# I tried to run a script to predict breakfast orders through the time with time series model but jupyter didnt recognize prophet. "
   ]
  },
  {
   "cell_type": "code",
   "execution_count": 28,
   "id": "a0e5be3e",
   "metadata": {
    "scrolled": true
   },
   "outputs": [
    {
     "ename": "KeyError",
     "evalue": "'cuisine'",
     "output_type": "error",
     "traceback": [
      "\u001b[0;31m---------------------------------------------------------------------------\u001b[0m",
      "\u001b[0;31mKeyError\u001b[0m                                  Traceback (most recent call last)",
      "\u001b[0;32m~/opt/anaconda3/lib/python3.9/site-packages/pandas/core/indexes/base.py\u001b[0m in \u001b[0;36mget_loc\u001b[0;34m(self, key, method, tolerance)\u001b[0m\n\u001b[1;32m   3360\u001b[0m             \u001b[0;32mtry\u001b[0m\u001b[0;34m:\u001b[0m\u001b[0;34m\u001b[0m\u001b[0;34m\u001b[0m\u001b[0m\n\u001b[0;32m-> 3361\u001b[0;31m                 \u001b[0;32mreturn\u001b[0m \u001b[0mself\u001b[0m\u001b[0;34m.\u001b[0m\u001b[0m_engine\u001b[0m\u001b[0;34m.\u001b[0m\u001b[0mget_loc\u001b[0m\u001b[0;34m(\u001b[0m\u001b[0mcasted_key\u001b[0m\u001b[0;34m)\u001b[0m\u001b[0;34m\u001b[0m\u001b[0;34m\u001b[0m\u001b[0m\n\u001b[0m\u001b[1;32m   3362\u001b[0m             \u001b[0;32mexcept\u001b[0m \u001b[0mKeyError\u001b[0m \u001b[0;32mas\u001b[0m \u001b[0merr\u001b[0m\u001b[0;34m:\u001b[0m\u001b[0;34m\u001b[0m\u001b[0;34m\u001b[0m\u001b[0m\n",
      "\u001b[0;32m~/opt/anaconda3/lib/python3.9/site-packages/pandas/_libs/index.pyx\u001b[0m in \u001b[0;36mpandas._libs.index.IndexEngine.get_loc\u001b[0;34m()\u001b[0m\n",
      "\u001b[0;32m~/opt/anaconda3/lib/python3.9/site-packages/pandas/_libs/index.pyx\u001b[0m in \u001b[0;36mpandas._libs.index.IndexEngine.get_loc\u001b[0;34m()\u001b[0m\n",
      "\u001b[0;32mpandas/_libs/hashtable_class_helper.pxi\u001b[0m in \u001b[0;36mpandas._libs.hashtable.PyObjectHashTable.get_item\u001b[0;34m()\u001b[0m\n",
      "\u001b[0;32mpandas/_libs/hashtable_class_helper.pxi\u001b[0m in \u001b[0;36mpandas._libs.hashtable.PyObjectHashTable.get_item\u001b[0;34m()\u001b[0m\n",
      "\u001b[0;31mKeyError\u001b[0m: 'cuisine'",
      "\nThe above exception was the direct cause of the following exception:\n",
      "\u001b[0;31mKeyError\u001b[0m                                  Traceback (most recent call last)",
      "\u001b[0;32m/var/folders/c1/cx4ljrk11rnctwvjxm_5xl6w0000gn/T/ipykernel_1876/1139241871.py\u001b[0m in \u001b[0;36m<module>\u001b[0;34m\u001b[0m\n\u001b[1;32m      7\u001b[0m \u001b[0;34m\u001b[0m\u001b[0m\n\u001b[1;32m      8\u001b[0m \u001b[0;31m# Create a bar plot to visualize the results\u001b[0m\u001b[0;34m\u001b[0m\u001b[0;34m\u001b[0m\u001b[0m\n\u001b[0;32m----> 9\u001b[0;31m cuisine_stats.plot(kind='bar', x='cuisine', y=['mean_order_value', 'number_of_orders'], \n\u001b[0m\u001b[1;32m     10\u001b[0m                    title='Cuisine Statistics (mean order value and number of orders)')\n\u001b[1;32m     11\u001b[0m \u001b[0mplt\u001b[0m\u001b[0;34m.\u001b[0m\u001b[0mshow\u001b[0m\u001b[0;34m(\u001b[0m\u001b[0;34m)\u001b[0m\u001b[0;34m\u001b[0m\u001b[0;34m\u001b[0m\u001b[0m\n",
      "\u001b[0;32m~/opt/anaconda3/lib/python3.9/site-packages/pandas/plotting/_core.py\u001b[0m in \u001b[0;36m__call__\u001b[0;34m(self, *args, **kwargs)\u001b[0m\n\u001b[1;32m    935\u001b[0m                 \u001b[0;32mif\u001b[0m \u001b[0mis_integer\u001b[0m\u001b[0;34m(\u001b[0m\u001b[0mx\u001b[0m\u001b[0;34m)\u001b[0m \u001b[0;32mand\u001b[0m \u001b[0;32mnot\u001b[0m \u001b[0mdata\u001b[0m\u001b[0;34m.\u001b[0m\u001b[0mcolumns\u001b[0m\u001b[0;34m.\u001b[0m\u001b[0mholds_integer\u001b[0m\u001b[0;34m(\u001b[0m\u001b[0;34m)\u001b[0m\u001b[0;34m:\u001b[0m\u001b[0;34m\u001b[0m\u001b[0;34m\u001b[0m\u001b[0m\n\u001b[1;32m    936\u001b[0m                     \u001b[0mx\u001b[0m \u001b[0;34m=\u001b[0m \u001b[0mdata_cols\u001b[0m\u001b[0;34m[\u001b[0m\u001b[0mx\u001b[0m\u001b[0;34m]\u001b[0m\u001b[0;34m\u001b[0m\u001b[0;34m\u001b[0m\u001b[0m\n\u001b[0;32m--> 937\u001b[0;31m                 \u001b[0;32melif\u001b[0m \u001b[0;32mnot\u001b[0m \u001b[0misinstance\u001b[0m\u001b[0;34m(\u001b[0m\u001b[0mdata\u001b[0m\u001b[0;34m[\u001b[0m\u001b[0mx\u001b[0m\u001b[0;34m]\u001b[0m\u001b[0;34m,\u001b[0m \u001b[0mABCSeries\u001b[0m\u001b[0;34m)\u001b[0m\u001b[0;34m:\u001b[0m\u001b[0;34m\u001b[0m\u001b[0;34m\u001b[0m\u001b[0m\n\u001b[0m\u001b[1;32m    938\u001b[0m                     \u001b[0;32mraise\u001b[0m \u001b[0mValueError\u001b[0m\u001b[0;34m(\u001b[0m\u001b[0;34m\"x must be a label or position\"\u001b[0m\u001b[0;34m)\u001b[0m\u001b[0;34m\u001b[0m\u001b[0;34m\u001b[0m\u001b[0m\n\u001b[1;32m    939\u001b[0m                 \u001b[0mdata\u001b[0m \u001b[0;34m=\u001b[0m \u001b[0mdata\u001b[0m\u001b[0;34m.\u001b[0m\u001b[0mset_index\u001b[0m\u001b[0;34m(\u001b[0m\u001b[0mx\u001b[0m\u001b[0;34m)\u001b[0m\u001b[0;34m\u001b[0m\u001b[0;34m\u001b[0m\u001b[0m\n",
      "\u001b[0;32m~/opt/anaconda3/lib/python3.9/site-packages/pandas/core/frame.py\u001b[0m in \u001b[0;36m__getitem__\u001b[0;34m(self, key)\u001b[0m\n\u001b[1;32m   3456\u001b[0m             \u001b[0;32mif\u001b[0m \u001b[0mself\u001b[0m\u001b[0;34m.\u001b[0m\u001b[0mcolumns\u001b[0m\u001b[0;34m.\u001b[0m\u001b[0mnlevels\u001b[0m \u001b[0;34m>\u001b[0m \u001b[0;36m1\u001b[0m\u001b[0;34m:\u001b[0m\u001b[0;34m\u001b[0m\u001b[0;34m\u001b[0m\u001b[0m\n\u001b[1;32m   3457\u001b[0m                 \u001b[0;32mreturn\u001b[0m \u001b[0mself\u001b[0m\u001b[0;34m.\u001b[0m\u001b[0m_getitem_multilevel\u001b[0m\u001b[0;34m(\u001b[0m\u001b[0mkey\u001b[0m\u001b[0;34m)\u001b[0m\u001b[0;34m\u001b[0m\u001b[0;34m\u001b[0m\u001b[0m\n\u001b[0;32m-> 3458\u001b[0;31m             \u001b[0mindexer\u001b[0m \u001b[0;34m=\u001b[0m \u001b[0mself\u001b[0m\u001b[0;34m.\u001b[0m\u001b[0mcolumns\u001b[0m\u001b[0;34m.\u001b[0m\u001b[0mget_loc\u001b[0m\u001b[0;34m(\u001b[0m\u001b[0mkey\u001b[0m\u001b[0;34m)\u001b[0m\u001b[0;34m\u001b[0m\u001b[0;34m\u001b[0m\u001b[0m\n\u001b[0m\u001b[1;32m   3459\u001b[0m             \u001b[0;32mif\u001b[0m \u001b[0mis_integer\u001b[0m\u001b[0;34m(\u001b[0m\u001b[0mindexer\u001b[0m\u001b[0;34m)\u001b[0m\u001b[0;34m:\u001b[0m\u001b[0;34m\u001b[0m\u001b[0;34m\u001b[0m\u001b[0m\n\u001b[1;32m   3460\u001b[0m                 \u001b[0mindexer\u001b[0m \u001b[0;34m=\u001b[0m \u001b[0;34m[\u001b[0m\u001b[0mindexer\u001b[0m\u001b[0;34m]\u001b[0m\u001b[0;34m\u001b[0m\u001b[0;34m\u001b[0m\u001b[0m\n",
      "\u001b[0;32m~/opt/anaconda3/lib/python3.9/site-packages/pandas/core/indexes/base.py\u001b[0m in \u001b[0;36mget_loc\u001b[0;34m(self, key, method, tolerance)\u001b[0m\n\u001b[1;32m   3361\u001b[0m                 \u001b[0;32mreturn\u001b[0m \u001b[0mself\u001b[0m\u001b[0;34m.\u001b[0m\u001b[0m_engine\u001b[0m\u001b[0;34m.\u001b[0m\u001b[0mget_loc\u001b[0m\u001b[0;34m(\u001b[0m\u001b[0mcasted_key\u001b[0m\u001b[0;34m)\u001b[0m\u001b[0;34m\u001b[0m\u001b[0;34m\u001b[0m\u001b[0m\n\u001b[1;32m   3362\u001b[0m             \u001b[0;32mexcept\u001b[0m \u001b[0mKeyError\u001b[0m \u001b[0;32mas\u001b[0m \u001b[0merr\u001b[0m\u001b[0;34m:\u001b[0m\u001b[0;34m\u001b[0m\u001b[0;34m\u001b[0m\u001b[0m\n\u001b[0;32m-> 3363\u001b[0;31m                 \u001b[0;32mraise\u001b[0m \u001b[0mKeyError\u001b[0m\u001b[0;34m(\u001b[0m\u001b[0mkey\u001b[0m\u001b[0;34m)\u001b[0m \u001b[0;32mfrom\u001b[0m \u001b[0merr\u001b[0m\u001b[0;34m\u001b[0m\u001b[0;34m\u001b[0m\u001b[0m\n\u001b[0m\u001b[1;32m   3364\u001b[0m \u001b[0;34m\u001b[0m\u001b[0m\n\u001b[1;32m   3365\u001b[0m         \u001b[0;32mif\u001b[0m \u001b[0mis_scalar\u001b[0m\u001b[0;34m(\u001b[0m\u001b[0mkey\u001b[0m\u001b[0;34m)\u001b[0m \u001b[0;32mand\u001b[0m \u001b[0misna\u001b[0m\u001b[0;34m(\u001b[0m\u001b[0mkey\u001b[0m\u001b[0;34m)\u001b[0m \u001b[0;32mand\u001b[0m \u001b[0;32mnot\u001b[0m \u001b[0mself\u001b[0m\u001b[0;34m.\u001b[0m\u001b[0mhasnans\u001b[0m\u001b[0;34m:\u001b[0m\u001b[0;34m\u001b[0m\u001b[0;34m\u001b[0m\u001b[0m\n",
      "\u001b[0;31mKeyError\u001b[0m: 'cuisine'"
     ]
    }
   ],
   "source": [
    "# Group the data by cuisine and calculate the mean order value and number of orders per cuisine\n",
    "cuisine_group = df.groupby(['cuisine'])\n",
    "cuisine_stats = cuisine_group.agg({'amount': 'mean', 'order_id': 'count'})\n",
    "\n",
    "# Rename the columns to be more descriptive\n",
    "cuisine_stats = cuisine_stats.rename(columns={'amount': 'mean_order_value', 'order_id': 'number_of_orders'})\n",
    "\n",
    "# Create a bar plot to visualize the results\n",
    "cuisine_stats.plot(kind='bar', x='cuisine', y=['mean_order_value', 'number_of_orders'], \n",
    "                   title='Cuisine Statistics (mean order value and number of orders)')\n",
    "plt.show()"
   ]
  },
  {
   "cell_type": "code",
   "execution_count": null,
   "id": "75935ed7",
   "metadata": {},
   "outputs": [],
   "source": []
  }
 ],
 "metadata": {
  "kernelspec": {
   "display_name": "Python 3 (ipykernel)",
   "language": "python",
   "name": "python3"
  },
  "language_info": {
   "codemirror_mode": {
    "name": "ipython",
    "version": 3
   },
   "file_extension": ".py",
   "mimetype": "text/x-python",
   "name": "python",
   "nbconvert_exporter": "python",
   "pygments_lexer": "ipython3",
   "version": "3.9.7"
  }
 },
 "nbformat": 4,
 "nbformat_minor": 5
}
